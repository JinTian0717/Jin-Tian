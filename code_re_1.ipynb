{
 "cells": [
  {
   "cell_type": "code",
   "execution_count": 7,
   "id": "77d69647",
   "metadata": {
    "ExecuteTime": {
     "end_time": "2022-03-11T03:03:41.313952Z",
     "start_time": "2022-03-11T03:03:30.753656Z"
    }
   },
   "outputs": [],
   "source": [
    "import pandas as pd\n",
    "import numpy as np\n",
    "import random \n",
    "import datetime\n",
    "stockdata = pd.read_excel('2005-2020_week.xlsx',index_col=0)\n",
    "np.random.seed(1100)\n",
    "choosestock = np.random.randint(0,len(stockdata.columns),7).tolist()\n",
    "start = datetime.datetime(2013,1,1)\n",
    "hisstart = datetime.datetime(2010,1,1)\n",
    "hisdata = stockdata.iloc[stockdata.index >= hisstart, choosestock]\n",
    "curdata = stockdata.iloc[stockdata.index >= start, choosestock]\n",
    "rt = (curdata.pct_change()+1).dropna().apply(np.log)\n",
    "hisrt = hisdata.pct_change(periods = 150)\n",
    "hisrt = hisrt[hisrt.index >= start]/150"
   ]
  },
  {
   "cell_type": "code",
   "execution_count": 106,
   "id": "eb3e5889",
   "metadata": {
    "ExecuteTime": {
     "end_time": "2022-03-10T12:54:38.585868Z",
     "start_time": "2022-03-10T12:54:38.573908Z"
    }
   },
   "outputs": [],
   "source": [
    "def choosearm(p):\n",
    "    np.random.seed(1111)\n",
    "    q = np.random.random(1)\n",
    "    n = sum(q>np.cumsum(p))\n",
    "    return n"
   ]
  },
  {
   "cell_type": "code",
   "execution_count": 107,
   "id": "4170662d",
   "metadata": {
    "ExecuteTime": {
     "end_time": "2022-03-10T12:54:38.648812Z",
     "start_time": "2022-03-10T12:54:38.586863Z"
    }
   },
   "outputs": [],
   "source": [
    "# def Hedge Algorithm (FULL FEEDBACK AND ADVERSARIAL COSTS)\n",
    "\n",
    "def hedge_alg(obj, epsilon, T=True):\n",
    "    if T == True:\n",
    "        T1 = len(obj)\n",
    "    else: T1 == T\n",
    "    res1 = pd.DataFrame(columns = obj.columns,index = obj.index)\n",
    "    # intialize parameters\n",
    "    num_arms = len(obj.columns)\n",
    "    cost = np.zeros(num_arms)\n",
    "    w1 = np.ones(num_arms) \n",
    "\n",
    "    # loop for hedge algorithm\n",
    "    for t in range(0,T1-1):\n",
    "        pt = w1/sum(w1)\n",
    "        n = choosearm(pt)\n",
    "        cost[n] = -obj.iloc[t,n]\n",
    "        w1 = w1*(1-epsilon)**cost\n",
    "        res1.iloc[t+1,n] = obj.iloc[t+1,n]\n",
    "        # return (np.argmax(w1),w1[np.argmax(w1)])\n",
    "    return res1\n",
    "hed_res = hedge_alg(rt, 0.2, T=True)\n",
    "hed = (np.e**pd.DataFrame(hed_res.stack(),columns=['hedge_return'])).cumprod().reset_index().set_index('level_0')"
   ]
  },
  {
   "cell_type": "code",
   "execution_count": 108,
   "id": "ad24f051",
   "metadata": {
    "ExecuteTime": {
     "end_time": "2022-03-10T12:54:38.696149Z",
     "start_time": "2022-03-10T12:54:38.650743Z"
    },
    "scrolled": true
   },
   "outputs": [],
   "source": [
    "# epsilon-greedy algorithm\n",
    "def changearm(arms,cur_arm):\n",
    "    if type(arms) != list:\n",
    "        arms = arms.tolist()\n",
    "    arms_copy = arms.copy()\n",
    "    del arms_copy[cur_arm]\n",
    "    import random\n",
    "    random.seed(1234)\n",
    "    new_arm_name = random.choice(arms_copy)\n",
    "    new_arm = arms.index(new_arm_name)\n",
    "    return new_arm\n",
    "\n",
    "\n",
    "def epsilon_greedy(obj,T = True):\n",
    "    if T == True:\n",
    "        T1 = len(obj)\n",
    "    else: T1 == T\n",
    "    df = pd.DataFrame(columns=obj.columns,index = obj.index)\n",
    "    num_arms = len(obj.columns)\n",
    "    arm = 0\n",
    "    df.iloc[0,arm] =  obj.iloc[0,arm]\n",
    "    for t in range(1,T1):\n",
    "        # epsilon = t**(-1/3)*(num_arms*np.log(t))**(1/3)\n",
    "        epsilon = 0.2\n",
    "        np.random.seed(1234)\n",
    "        suc = np.random.random(1)\n",
    "        if suc <= epsilon:\n",
    "            arm = changearm(obj.columns,cur_arm = arm)\n",
    "            df.iloc[t,arm] =  obj.iloc[t,arm]\n",
    "        else:\n",
    "            arm = np.argmax(df.mean())\n",
    "            df.iloc[t,arm] =  obj.iloc[t,arm]\n",
    "    return df\n",
    "eps_res = epsilon_greedy(rt, T=True)\n",
    "eps = (np.e**pd.DataFrame(eps_res.stack(),columns=['epsilon_greedy_return'])).cumprod().reset_index().set_index('level_0')"
   ]
  },
  {
   "cell_type": "code",
   "execution_count": 109,
   "id": "a432308e",
   "metadata": {
    "ExecuteTime": {
     "end_time": "2022-03-10T12:54:39.658724Z",
     "start_time": "2022-03-10T12:54:38.697141Z"
    }
   },
   "outputs": [],
   "source": [
    "def UCB1(obj,T = True):\n",
    "    if T == True:\n",
    "        T1 = len(obj)\n",
    "    else: T1 == T\n",
    "    df = pd.DataFrame(columns=obj.columns,index = obj.index)\n",
    "    df.iloc[0,:] =  obj.iloc[0,:]\n",
    "    for t in range(1,T1):\n",
    "        arm = np.argmax(df.mean()+np.sqrt(2*np.log(t)/df.count()))\n",
    "        df.iloc[t,arm] =  obj.iloc[t,arm]\n",
    "    return df\n",
    "\n",
    "ucb_res = UCB1(rt, T=True)\n",
    "ucb = (np.e**pd.DataFrame(ucb_res.stack(),columns=['ucb1_return'])).cumprod().reset_index().set_index('level_0')"
   ]
  },
  {
   "cell_type": "code",
   "execution_count": 110,
   "id": "f015fffe",
   "metadata": {
    "ExecuteTime": {
     "end_time": "2022-03-10T12:54:39.799428Z",
     "start_time": "2022-03-10T12:54:39.659669Z"
    }
   },
   "outputs": [],
   "source": [
    "# Mean average\n",
    "hisrt_mean = hisdata.pct_change(periods = 8)\n",
    "hisrt_mean = hisrt_mean[hisrt_mean.index >= start]/8\n",
    "\n",
    "def meanave(obj):\n",
    "    df = pd.DataFrame(0,columns=obj.columns,index = obj.index)\n",
    "    for i in range(len(obj)-1):\n",
    "        df.iloc[i+1,np.argmax(hisrt_mean.iloc[i,:])] = -1\n",
    "        df.iloc[i+1,np.argmin(hisrt_mean.iloc[i,:])] = 1\n",
    "    res = df*obj\n",
    "    res['mean_average_return'] = res.sum(axis = 1)\n",
    "    return res['mean_average_return']\n",
    "\n",
    "mea_res = meanave(rt)\n",
    "mea = (np.e**pd.DataFrame(mea_res,columns=['mean_average_return'])).cumprod()"
   ]
  },
  {
   "cell_type": "code",
   "execution_count": null,
   "id": "5db8f52c",
   "metadata": {},
   "outputs": [],
   "source": [
    "# ES optimal algorithm\n",
    "def F(u,alpha,t,delta,gamma,obj):\n",
    "    UH = 0\n",
    "    UR = 0\n",
    "    for s in range(t):\n",
    "        UH = max(-(sum(u*np.array(obj.iloc[s]))+UH+alpha),0)+UH\n",
    "        UR = max(-(sum(u*np.array(obj.iloc[s]))+alpha),0)+UR\n",
    "    Fgamma = alpha + 1/((delta+t-1)*(1-gamma)) * (UH+UR)\n",
    "    return Fgamma\n",
    "\n",
    "# solve optimal weight\n",
    "\n",
    "def portfolio_selection(obj,obj_history, epsilon, T, lamb, gamma=0.95):\n",
    "    w_data = pd.DataFrame(columns=rt.columns, index = rt.index)\n",
    "    res1 = pd.DataFrame(columns=['stock'],index = rt.index)\n",
    "    # intialize parameters\n",
    "    num_arms = len(obj.columns)\n",
    "    cost = np.zeros(num_arms)\n",
    "    w1 = np.ones(num_arms) \n",
    "    epsilon=np.sqrt(np.log(num_arms)/T)\n",
    "\n",
    "    from scipy import optimize\n",
    "    # loop for hedge algorithm\n",
    "    for t in range(0,T-1):\n",
    "        pt = w1/sum(w1)\n",
    "        n = choosearm(pt)\n",
    "\n",
    "        def F(u):\n",
    "            delta = t\n",
    "            UH = 0\n",
    "            UR = 0\n",
    "            alpha = u[num_arms]\n",
    "            for s in range(t):\n",
    "                U1 = sum([u[i]*obj_history.iloc[s,i] for i in range(num_arms)])\n",
    "                U2 = sum([u[i]*obj.iloc[s,i] for i in range(num_arms)])\n",
    "                # U = obj_C.iloc[s,num_arms-2] - sum([u[i]*(obj_C.iloc[s,i]-obj_C.iloc[s,num_arms-2]) for i in range(num_arms-2)])\n",
    "                UH = max(-(U1+alpha),0)+UH\n",
    "                UR = max(-(U2+alpha),0)+UR\n",
    "            Fgamma = alpha + 1/((delta+t-1)*(1-gamma)) * (UH+UR)\n",
    "            return Fgamma\n",
    "        def cons(u):\n",
    "            return sum([u[i] for i in range(len(u)-1)]) - 1\n",
    "        def ieq_cons(u):\n",
    "            for i in range(len(u)-1):\n",
    "                return u[i]\n",
    "        print(t)\n",
    "        from scipy.optimize import Bounds\n",
    "        w_c = optimize.fmin_slsqp(F,[1/num_arms]*(num_arms)+[0],eqcons=[cons,],ieqcons=[ieq_cons,])[:-1]\n",
    "\n",
    "        cost[n] = 1/(1+np.exp(-obj.iloc[t,n]))\n",
    "        w1 = w1*(1-epsilon)**cost\n",
    "        res1.iloc[t+1,0] = stockdata.columns[np.argmax(w1)]\n",
    "        w_star = lamb\n",
    "        w = (w_c*(1-lamb)).tolist()\n",
    "        w[np.argmax(w1)] = w[np.argmax(w1)]+w_star\n",
    "        w_data.iloc[t+1] = w\n",
    "        # return (np.argmax(w1),w1[np.argmax(w1)])\n",
    "    # res = w_data.merge(res1)\n",
    "    return res1, w_data\n",
    "\n",
    "res1, w_data = portfolio_selection(rt,hisrt, 0.05, len(rt.index), 0.5, gamma=0.95)"
   ]
  },
  {
   "cell_type": "code",
   "execution_count": 112,
   "id": "c13f7cc4",
   "metadata": {
    "ExecuteTime": {
     "end_time": "2022-03-10T14:00:35.278374Z",
     "start_time": "2022-03-10T14:00:35.263424Z"
    }
   },
   "outputs": [],
   "source": [
    "res = res1.merge(w_data,left_index=True,right_index=True)\n",
    "\n",
    "pandl = w_data*rt\n",
    "\n",
    "pandl['totalreturn'] = pandl.apply(lambda x: sum(x),axis = 1)\n",
    "\n",
    "pandl = pandl[abs(pandl['totalreturn'])<3]"
   ]
  },
  {
   "cell_type": "code",
   "execution_count": 114,
   "id": "f340c2cc",
   "metadata": {
    "ExecuteTime": {
     "end_time": "2022-03-10T14:00:45.634447Z",
     "start_time": "2022-03-10T14:00:45.620490Z"
    }
   },
   "outputs": [],
   "source": [
    "# report \n",
    "\n",
    "def report(ret, indexset,f):##this is for summarising investment results\n",
    "    investresult_test = pd.DataFrame(index=[indexset],columns=['return','std','sharpe'])\n",
    "    total_value = ret\n",
    "    # daily_return = (total_value - total_value.shift(1))/total_value.shift(1)\n",
    "    mean = total_value.mean()*f\n",
    "    std = total_value.std()*np.sqrt(f)\n",
    "    sharpe = mean/(std)\n",
    "    # maxdrawdown = MaxDrawdown(ret.iloc[:,0].tolist())\n",
    "    # turnover1 = turnoverfuc(ret)\n",
    "    investresult_test.loc[indexset,'return'] = mean\n",
    "    investresult_test.loc[indexset,'std'] = std\n",
    "    investresult_test.loc[indexset,'sharpe'] = sharpe\n",
    "    # investresult_test.loc[indexset,'maxdrawdown'] = maxdrawdown\n",
    "    # investresult_test.loc[indexset,'turnover'] = turnover1\n",
    "    return investresult_test"
   ]
  },
  {
   "cell_type": "code",
   "execution_count": null,
   "id": "1232bf5d",
   "metadata": {},
   "outputs": [],
   "source": [
    "import matplotlib.pyplot as plt\n",
    "fig,ax = plt.subplots(3,1,figsize=(12,15))\n",
    "ax[0].plot(np.cumprod(np.array(np.e**pandl['totalreturn'])))\n",
    "ax[0].set_title('Combined Portfolio')\n",
    "ax[0].set_ylabel('Cumulative Wealth')\n",
    "\n",
    "(np.e**rt).cumprod().plot(ax = ax[1])\n",
    "ax[1].legend(loc='best')\n",
    "ax[1].set_ylabel('Relative Price')\n",
    "ax[1].set_title('Performance of Singal Stock')\n",
    "\n",
    "hed['hedge_return'].plot(ax = ax[2],label = 'hedge algorithm')\n",
    "eps['epsilon_greedy_return'].plot(ax = ax[2],label = 'epsilon greedy algorithm')\n",
    "ucb['ucb1_return'].plot(ax = ax[2],label = 'UCB1 algorithm')\n",
    "mea.plot(ax = ax[2],label = 'Mean Average')\n",
    "ax[2].legend(loc='best')\n",
    "ax[2].set_xlabel('Time')\n",
    "ax[2].set_ylabel('Singal Method')\n",
    "ax[2].set_title('Performance of Singal Algorithm')\n",
    "for tick in ax[2].get_xticklabels():\n",
    "    tick.set_rotation(30) \n",
    "plt.show()"
   ]
  },
  {
   "cell_type": "code",
   "execution_count": null,
   "id": "274cbee4",
   "metadata": {},
   "outputs": [],
   "source": [
    "investresult = pd.concat([\n",
    "    report(hed_res.stack(),'Hedge',52),\n",
    "    report(eps_res.stack(),'EpsilonGreedy',52), \n",
    "    report(ucb_res.stack(),'UCB1',52), \n",
    "    report(mea_res,'MeanAverage',52), \n",
    "    report(pandl['totalreturn'],'Combined',52)], \n",
    "    ignore_index=False)\n",
    "\n",
    "print(investresult)"
   ]
  }
 ],
 "metadata": {
  "kernelspec": {
   "display_name": "Python 3",
   "language": "python",
   "name": "python3"
  },
  "language_info": {
   "codemirror_mode": {
    "name": "ipython",
    "version": 3
   },
   "file_extension": ".py",
   "mimetype": "text/x-python",
   "name": "python",
   "nbconvert_exporter": "python",
   "pygments_lexer": "ipython3",
   "version": "3.8.8"
  }
 },
 "nbformat": 4,
 "nbformat_minor": 5
}
